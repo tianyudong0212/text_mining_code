{
 "cells": [
  {
   "attachments": {},
   "cell_type": "markdown",
   "metadata": {},
   "source": [
    "# 1. Data Cleaning\n",
    "## 1.1 Incorrect XML Format, Convert to TXT\n",
    "\n",
    "- Due to formatting issues encountered during XML parsing, it is only necessary to change the file extension of all XML files in the folder to TXT, without the need to read or modify the file contents.\n"
   ]
  },
  {
   "cell_type": "code",
   "execution_count": null,
   "metadata": {},
   "outputs": [],
   "source": [
    "import os\n",
    "import glob\n",
    "\n",
    "\n",
    "def rename_files(xml_path):\n",
    "    # Gets a list of xml files\n",
    "    xml_files = glob.glob(os.path.join(xml_path, '*.xml'))\n",
    "\n",
    "    # Walk through each xml file\n",
    "    for xml_file in xml_files:\n",
    "        # Get file name (without extension)\n",
    "        file_name = os.path.splitext(os.path.basename(xml_file))[0]\n",
    "\n",
    "        # Example Change the file extension name to txt\n",
    "        txt_file_path = os.path.join(save_path, file_name + '.txt')\n",
    "        os.rename(xml_file, txt_file_path)\n",
    "\n",
    "        print(f'ok：{xml_file} -> {txt_file_path}')\n",
    "\n",
    "\n",
    "# Specify the XML folder path\n",
    "xml_folder = './blogs/'\n",
    "save_path = './data/'\n",
    "\n",
    "# Call the function to modify the file extension\n",
    "rename_files(xml_folder)\n"
   ]
  },
  {
   "attachments": {},
   "cell_type": "markdown",
   "metadata": {},
   "source": [
    "# 1.2 Extracting Valid Information from TXT and Saving as Excel\n",
    "\n",
    "- Use the Pandas library to extract the content from a TXT file and save it as an Excel file.\n",
    "- This code snippet utilizes the Pandas library to create a DataFrame and add the extracted information to it. Then, the data is saved as an Excel file using the to_excel method of the DataFrame.\n",
    "- Attempt to open the TXT file using the utf-8-sig encoding. The utf-8-sig encoding automatically ignores the Byte Order Mark (BOM) at the beginning of the text file and is generally more tolerant of text files containing special characters. The errors='ignore' parameter is added to ignore error cases.\n",
    "- There are spaces and newline characters between <post></post>, so a well-crafted regular expression is written to be able to match cases with spaces and newline characters. The regular expression pattern used is [\\s\\S], which matches any character, including spaces and newline characters.\n"
   ]
  },
  {
   "cell_type": "code",
   "execution_count": null,
   "metadata": {},
   "outputs": [],
   "source": [
    "import os\n",
    "import re\n",
    "import pandas as pd\n",
    "\n",
    "\n",
    "def extract_info_from_txt(folder_path):\n",
    "    data = []\n",
    "\n",
    "    # Iterate through all the txt files in the folder\n",
    "    for filename in os.listdir(folder_path):\n",
    "        if filename.endswith(\".txt\"):\n",
    "            file_path = os.path.join(folder_path, filename)\n",
    "\n",
    "            # Extract id, gender, age, occupation, and constellation from the file name\n",
    "            id, gender, age, occupation, constellation = filename.split(\".\")[\n",
    "                :-1]\n",
    "            id = int(id)  # If id is a number, convert it to an integer\n",
    "\n",
    "            # Extract the post from the txt file\n",
    "            with open(file_path, \"r\", encoding=\"utf-8-sig\", errors='ignore') as file:\n",
    "                content = file.read()\n",
    "\n",
    "                # Fetch post\n",
    "                post_matches = re.findall(r\"<post>([\\s\\S]*?)<\\/post>\", content)\n",
    "\n",
    "                # Process all matches for the post\n",
    "                for post in post_matches:\n",
    "                    row = [id, gender, age, occupation,\n",
    "                           constellation, post.strip()]\n",
    "                    data.append(row)\n",
    "\n",
    "    # Create a DataFrame\n",
    "    columns = [\"id\", \"gender\", \"age\", \"occupation\", \"constellation\", \"post\"]\n",
    "    df = pd.DataFrame(data, columns=columns)\n",
    "\n",
    "    # Save as an Excel file\n",
    "    excel_filename = os.path.join(folder_path, \"output.xlsx\")\n",
    "    df.to_excel(excel_filename, index=False)\n",
    "    print(\"Excel Saved！\")\n",
    "\n",
    "\n",
    "# Specifies the path to the folder containing the txt file\n",
    "folder_path = \"./data/\"\n",
    "\n",
    "# Extract information and save it as an Excel file\n",
    "extract_info_from_txt(folder_path)\n"
   ]
  },
  {
   "attachments": {},
   "cell_type": "markdown",
   "metadata": {},
   "source": [
    "## 1.3Sample classification"
   ]
  },
  {
   "cell_type": "code",
   "execution_count": 1,
   "metadata": {},
   "outputs": [],
   "source": [
    "import pandas as pd\n",
    "\n",
    "# Read the original Excel file\n",
    "df = pd.read_excel('./dataForCode/output.xlsx')\n",
    "\n",
    "# Filter the data by gender column and save it to a separate Excel file\n",
    "male_data = df[df['gender'] == 'male']\n",
    "female_data = df[df['gender'] == 'female']\n",
    "\n",
    "male_data.to_excel('./dataForCode/male_output.xlsx', index=False)\n",
    "female_data.to_excel('./dataForCode/female_output.xlsx', index=False)\n",
    "\n",
    "# Filter the data by the criteria in the age column and save it to a separate Excel file\n",
    "age_below_20_data = df[df['age'] <= 20]\n",
    "age_above_20_data = df[df['age'] > 20]\n",
    "\n",
    "age_below_20_data.to_excel('./dataForCode/age_below_20_output.xlsx', index=False)\n",
    "age_above_20_data.to_excel('./dataForCode/age_above_20_output.xlsx', index=False)\n",
    "\n",
    "# Filter the data according to the occupation column and save it to a separate Excel file\n",
    "student_data = df[df['occupation'] == 'Student']\n",
    "\n",
    "student_data.to_excel('./dataForCode/student_output.xlsx', index=False)\n"
   ]
  }
 ],
 "metadata": {
  "kernelspec": {
   "display_name": "Python 3.8.5 ('base')",
   "language": "python",
   "name": "python3"
  },
  "language_info": {
   "codemirror_mode": {
    "name": "ipython",
    "version": 3
   },
   "file_extension": ".py",
   "mimetype": "text/x-python",
   "name": "python",
   "nbconvert_exporter": "python",
   "pygments_lexer": "ipython3",
   "version": "3.8.5"
  },
  "orig_nbformat": 4,
  "vscode": {
   "interpreter": {
    "hash": "6f5583cf1d9466b5c27e75c89cc6b383bed5736d6b16c51c8074d8690011a952"
   }
  }
 },
 "nbformat": 4,
 "nbformat_minor": 2
}
